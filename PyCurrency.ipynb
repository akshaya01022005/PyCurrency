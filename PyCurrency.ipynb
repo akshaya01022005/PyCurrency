{
 "cells": [
  {
   "cell_type": "code",
   "execution_count": 1,
   "id": "c72f39da-e50b-4cce-b9c7-60162f32eef2",
   "metadata": {},
   "outputs": [],
   "source": [
    "import requests"
   ]
  },
  {
   "cell_type": "code",
   "execution_count": 3,
   "id": "16ee9c20-5518-454b-b0ba-1c8ec785c147",
   "metadata": {},
   "outputs": [],
   "source": [
    "api_key = \"fca_live_jRBoTAl131QItftMSPLfRjoHRz5F6Zs0m0xporoE\""
   ]
  },
  {
   "cell_type": "code",
   "execution_count": 5,
   "id": "7fa12ccb-d12e-4017-9d31-cc1a67a1f300",
   "metadata": {},
   "outputs": [
    {
     "name": "stdout",
     "output_type": "stream",
     "text": [
      "Available currencies: AUD, BGN, BRL, CAD, CHF, CNY, CZK, DKK, EUR, GBP, HKD, HRK, HUF, IDR, ILS, INR, ISK, JPY, KRW, MXN, MYR, NOK, NZD, PHP, PLN, RON, RUB, SEK, SGD, THB, TRY, USD, ZAR\n"
     ]
    },
    {
     "name": "stdin",
     "output_type": "stream",
     "text": [
      "Enter amount to convert:  100\n",
      "Enter source currency (e.g., USD):  usd\n",
      "Enter target currency (e.g., INR):  inr\n"
     ]
    },
    {
     "name": "stdout",
     "output_type": "stream",
     "text": [
      "100.0 USD = 8699.27736432 INR\n"
     ]
    }
   ],
   "source": [
    "import requests\n",
    "\n",
    "api_key = \"fca_live_jRBoTAl131QItftMSPLfRjoHRz5F6Zs0m0xporoE\"\n",
    "\n",
    "def get_exchange_rates():\n",
    "    url = f\"https://api.freecurrencyapi.com/v1/latest?apikey={api_key}\"\n",
    "    response = requests.get(url)\n",
    "    return response.json()['data']\n",
    "\n",
    "def convert_currency(amount, from_currency, to_currency, rates):\n",
    "    if from_currency in rates and to_currency in rates:\n",
    "        return amount * (rates[to_currency] / rates[from_currency])\n",
    "    else:\n",
    "        return \"Invalid currency code.\"\n",
    "\n",
    "rates = get_exchange_rates()\n",
    "\n",
    "print(\"Available currencies:\", \", \".join(rates.keys()))\n",
    "\n",
    "amount = float(input(\"Enter amount to convert: \"))\n",
    "from_currency = input(\"Enter source currency (e.g., USD): \").upper()\n",
    "to_currency = input(\"Enter target currency (e.g., INR): \").upper()\n",
    "\n",
    "result = convert_currency(amount, from_currency, to_currency, rates)\n",
    "print(f\"{amount} {from_currency} = {result} {to_currency}\")\n"
   ]
  },
  {
   "cell_type": "code",
   "execution_count": null,
   "id": "0b7953c9-920b-4dac-9a16-7d68b8663560",
   "metadata": {},
   "outputs": [],
   "source": []
  }
 ],
 "metadata": {
  "kernelspec": {
   "display_name": "Python [conda env:base] *",
   "language": "python",
   "name": "conda-base-py"
  },
  "language_info": {
   "codemirror_mode": {
    "name": "ipython",
    "version": 3
   },
   "file_extension": ".py",
   "mimetype": "text/x-python",
   "name": "python",
   "nbconvert_exporter": "python",
   "pygments_lexer": "ipython3",
   "version": "3.12.7"
  }
 },
 "nbformat": 4,
 "nbformat_minor": 5
}
